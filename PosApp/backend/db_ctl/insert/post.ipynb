{
 "cells": [
  {
   "cell_type": "code",
   "execution_count": 4,
   "metadata": {},
   "outputs": [],
   "source": [
    "import requests\n",
    "import json\n",
    "import pandas as pd"
   ]
  },
  {
   "cell_type": "markdown",
   "metadata": {},
   "source": [
    "items"
   ]
  },
  {
   "cell_type": "code",
   "execution_count": 7,
   "metadata": {},
   "outputs": [
    {
     "data": {
      "text/html": [
       "<div>\n",
       "<style scoped>\n",
       "    .dataframe tbody tr th:only-of-type {\n",
       "        vertical-align: middle;\n",
       "    }\n",
       "\n",
       "    .dataframe tbody tr th {\n",
       "        vertical-align: top;\n",
       "    }\n",
       "\n",
       "    .dataframe thead th {\n",
       "        text-align: right;\n",
       "    }\n",
       "</style>\n",
       "<table border=\"1\" class=\"dataframe\">\n",
       "  <thead>\n",
       "    <tr style=\"text-align: right;\">\n",
       "      <th></th>\n",
       "      <th>販売名</th>\n",
       "      <th>ＪＡＮコード</th>\n",
       "      <th>包装単位</th>\n",
       "      <th>発売元企業名</th>\n",
       "      <th>製造販売業者名</th>\n",
       "      <th>有効成分名</th>\n",
       "      <th>価格</th>\n",
       "      <th>セルフメディケーション税制対象</th>\n",
       "    </tr>\n",
       "  </thead>\n",
       "  <tbody>\n",
       "    <tr>\n",
       "      <th>1</th>\n",
       "      <td>アイクリスタ11</td>\n",
       "      <td>4981736222712</td>\n",
       "      <td>１５ｍＬ</td>\n",
       "      <td>サンドラッググループ</td>\n",
       "      <td>佐賀製薬株式会社</td>\n",
       "      <td>クロルフェニラミン,テトラヒドロゾリン</td>\n",
       "      <td>1900</td>\n",
       "      <td>1</td>\n",
       "    </tr>\n",
       "    <tr>\n",
       "      <th>2</th>\n",
       "      <td>アイサット抗菌</td>\n",
       "      <td>4987103046301</td>\n",
       "      <td>１０ｍＬ</td>\n",
       "      <td>-</td>\n",
       "      <td>ゼリア新薬工業株式会社</td>\n",
       "      <td>クロルフェニラミン</td>\n",
       "      <td>800</td>\n",
       "      <td>1</td>\n",
       "    </tr>\n",
       "    <tr>\n",
       "      <th>3</th>\n",
       "      <td>アイサット抗菌</td>\n",
       "      <td>4987103051701</td>\n",
       "      <td>１２ｍＬ</td>\n",
       "      <td>-</td>\n",
       "      <td>ゼリア新薬工業株式会社</td>\n",
       "      <td>クロルフェニラミン</td>\n",
       "      <td>1200</td>\n",
       "      <td>1</td>\n",
       "    </tr>\n",
       "    <tr>\n",
       "      <th>4</th>\n",
       "      <td>アイスラブゲル</td>\n",
       "      <td>4987241105274</td>\n",
       "      <td>１００ｇ</td>\n",
       "      <td>ロート製薬株式会社</td>\n",
       "      <td>ロート製薬株式会社</td>\n",
       "      <td>サリチル酸グリコール</td>\n",
       "      <td>1000</td>\n",
       "      <td>1</td>\n",
       "    </tr>\n",
       "    <tr>\n",
       "      <th>5</th>\n",
       "      <td>アイダムALクール</td>\n",
       "      <td>4987154601641</td>\n",
       "      <td>１５ｍＬ</td>\n",
       "      <td>グレートアンドグランド</td>\n",
       "      <td>キョーリンリメディオ株式会社</td>\n",
       "      <td>クロルフェニラミン,テトラヒドロゾリン</td>\n",
       "      <td>2100</td>\n",
       "      <td>1</td>\n",
       "    </tr>\n",
       "  </tbody>\n",
       "</table>\n",
       "</div>"
      ],
      "text/plain": [
       "         販売名         ＪＡＮコード  包装単位       発売元企業名         製造販売業者名  \\\n",
       "1   アイクリスタ11  4981736222712  １５ｍＬ   サンドラッググループ        佐賀製薬株式会社   \n",
       "2    アイサット抗菌  4987103046301  １０ｍＬ            -     ゼリア新薬工業株式会社   \n",
       "3    アイサット抗菌  4987103051701  １２ｍＬ            -     ゼリア新薬工業株式会社   \n",
       "4    アイスラブゲル  4987241105274  １００ｇ    ロート製薬株式会社       ロート製薬株式会社   \n",
       "5  アイダムALクール  4987154601641  １５ｍＬ  グレートアンドグランド  キョーリンリメディオ株式会社   \n",
       "\n",
       "                 有効成分名    価格 セルフメディケーション税制対象  \n",
       "1  クロルフェニラミン,テトラヒドロゾリン  1900               1  \n",
       "2            クロルフェニラミン   800               1  \n",
       "3            クロルフェニラミン  1200               1  \n",
       "4           サリチル酸グリコール  1000               1  \n",
       "5  クロルフェニラミン,テトラヒドロゾリン  2100               1  "
      ]
     },
     "execution_count": 7,
     "metadata": {},
     "output_type": "execute_result"
    }
   ],
   "source": [
    "# excel読み込み\n",
    "df = pd.read_excel('./R5.9セルメディ税制対象品目一覧.xlsx',sheet_name='database',skiprows=1)\n",
    "df = df[['販売名','ＪＡＮコード','包装単位','発売元企業名','製造販売業者名','有効成分名','価格','セルフメディケーション税制対象']]\n",
    "df = df[df['販売名']!='PRD_NAME']\n",
    "import random\n",
    "df['価格'] =[random.randint(7,30)*100 for _ in range(df.shape[0])]\n",
    "df = df[df['ＪＡＮコード'].notnull()]\n",
    "df['有効成分名'] = df['有効成分名'].str.replace('、',',')\n",
    "df['セルフメディケーション税制対象'] = df['セルフメディケーション税制対象'].astype(str)\n",
    "df = df.fillna('-')\n",
    "df.head(5)\n"
   ]
  },
  {
   "cell_type": "code",
   "execution_count": 11,
   "metadata": {},
   "outputs": [
    {
     "data": {
      "text/html": [
       "<div>\n",
       "<style scoped>\n",
       "    .dataframe tbody tr th:only-of-type {\n",
       "        vertical-align: middle;\n",
       "    }\n",
       "\n",
       "    .dataframe tbody tr th {\n",
       "        vertical-align: top;\n",
       "    }\n",
       "\n",
       "    .dataframe thead th {\n",
       "        text-align: right;\n",
       "    }\n",
       "</style>\n",
       "<table border=\"1\" class=\"dataframe\">\n",
       "  <thead>\n",
       "    <tr style=\"text-align: right;\">\n",
       "      <th></th>\n",
       "      <th>販売名</th>\n",
       "      <th>ＪＡＮコード</th>\n",
       "      <th>包装単位</th>\n",
       "      <th>発売元企業名</th>\n",
       "      <th>製造販売業者名</th>\n",
       "      <th>有効成分名</th>\n",
       "      <th>価格</th>\n",
       "      <th>セルフメディケーション税制対象</th>\n",
       "    </tr>\n",
       "  </thead>\n",
       "  <tbody>\n",
       "    <tr>\n",
       "      <th>3683</th>\n",
       "      <td>エスタックイブ</td>\n",
       "      <td>4987300032008</td>\n",
       "      <td>30錠</td>\n",
       "      <td>エスエス製薬株式会社</td>\n",
       "      <td>エスエス製薬株式会社</td>\n",
       "      <td>イブプロフェン</td>\n",
       "      <td>2600</td>\n",
       "      <td>1</td>\n",
       "    </tr>\n",
       "  </tbody>\n",
       "</table>\n",
       "</div>"
      ],
      "text/plain": [
       "          販売名         ＪＡＮコード 包装単位      発売元企業名     製造販売業者名    有効成分名    価格  \\\n",
       "3683  エスタックイブ  4987300032008  30錠  エスエス製薬株式会社  エスエス製薬株式会社  イブプロフェン  2600   \n",
       "\n",
       "     セルフメディケーション税制対象  \n",
       "3683               1  "
      ]
     },
     "execution_count": 11,
     "metadata": {},
     "output_type": "execute_result"
    }
   ],
   "source": [
    "df[df['ＪＡＮコード']=='4987300032008']"
   ]
  },
  {
   "cell_type": "code",
   "execution_count": 60,
   "metadata": {},
   "outputs": [],
   "source": [
    "# JANコード重複を排除 連番を振って一番初めのレコードだけ残す\n",
    "df['seq_no'] = df.groupby('ＪＡＮコード').cumcount()\n",
    "df = df[df['seq_no']==0]\n"
   ]
  },
  {
   "cell_type": "code",
   "execution_count": 74,
   "metadata": {},
   "outputs": [],
   "source": [
    "url = 'http://127.0.0.1:8000/item/'\n",
    "\n",
    "for i in range(len(df)):\n",
    "  selected_dict = dict(df.iloc[i])\n",
    "  body = {\n",
    "    'prd_cd' : selected_dict['ＪＡＮコード'],\n",
    "    'prd_name' : selected_dict['販売名'],\n",
    "    'pac_unit' : selected_dict['包装単位'],\n",
    "    'sale_company' : selected_dict['発売元企業名'],\n",
    "    'mnf_company' : selected_dict['製造販売業者名'],\n",
    "    'ingrdnt' : selected_dict['有効成分名'],\n",
    "    'prd_price' : int(selected_dict['価格']),\n",
    "    'smd_yn_fg' : selected_dict['セルフメディケーション税制対象']\n",
    "  }\n",
    "\n",
    "  res = requests.post(url,json.dumps(body))\n"
   ]
  },
  {
   "cell_type": "code",
   "execution_count": 6,
   "metadata": {},
   "outputs": [
    {
     "name": "stdout",
     "output_type": "stream",
     "text": [
      "<Response [500]>\n"
     ]
    }
   ],
   "source": [
    "# url = 'http://127.0.0.1:8000/item/'\n",
    "# body = {\n",
    "#   'prd_cd' : '4987241148820',\n",
    "#   'prd_name' : 'メンソレータムアクネス25メディカルクリームc',\n",
    "#   'pac_unit' : '16g',\n",
    "#   'sale_company' : 'ロート製薬',\n",
    "#   'mnf_company' : 'ロート製薬',\n",
    "#   'ingrdnt' : 'イブプロフェンピコノール、イブプロピルメチルフェノール',\n",
    "#   'prd_price' : int(1200),\n",
    "#   'smd_yn_fg' : '1'\n",
    "# }\n",
    "\n",
    "# res = requests.post(url,json.dumps(body))\n",
    "# print(res)"
   ]
  },
  {
   "cell_type": "markdown",
   "metadata": {},
   "source": [
    "purchase <br>\n",
    "trans, tran_details"
   ]
  },
  {
   "cell_type": "code",
   "execution_count": 82,
   "metadata": {},
   "outputs": [
    {
     "name": "stdout",
     "output_type": "stream",
     "text": [
      "<Response [200]>\n",
      "{'status': 'success', 'message': {'合計金額': 3000, '合計金額（税抜）': 300}}\n"
     ]
    }
   ],
   "source": [
    "items =  [\n",
    "            {\n",
    "                'prd_cd': '00001',\n",
    "                'prd_name': 'Drug A',\n",
    "                'prd_price':1000\n",
    "            },\n",
    "            {\n",
    "                'prd_cd': '00002',\n",
    "                'prd_name': 'Drug B',\n",
    "                'prd_price':2000\n",
    "            },\n",
    "        ]\n",
    "\n",
    "item_prices = [int(item['prd_price']) for item in items]\n",
    "total_amt = sum(item_prices)\n",
    "\n",
    "\n",
    "url = 'http://127.0.0.1:8000/purchase'\n",
    "body = {\n",
    "    # 'trd_id': 1,\n",
    "    'mbr_id':1,\n",
    "    'emp_cd':'1234',\n",
    "    'store_cd':'C01',\n",
    "    'pos_no': '001',\n",
    "    'total_amt':total_amt,\n",
    "    'ttl_amt_ex_tax':total_amt*0.1,\n",
    "    'items':items\n",
    "}\n",
    "\n",
    "headers = {'Content-Type': 'application/json'}  # Content-Type ヘッダーを手動で設定\n",
    "\n",
    "res = requests.post(url, json.dumps(body), headers=headers)\n",
    "print(res)\n",
    "print(res.json())"
   ]
  },
  {
   "cell_type": "markdown",
   "metadata": {},
   "source": [
    "members"
   ]
  },
  {
   "cell_type": "code",
   "execution_count": 3,
   "metadata": {},
   "outputs": [
    {
     "name": "stdout",
     "output_type": "stream",
     "text": [
      "<Response [200]>\n",
      "{'mbr_nm': 'Ema', 'birth_dt': '2024-01-01', 'sex': 'Female', 'pref': 'Tokyo', 'mbr_id': 3}\n"
     ]
    }
   ],
   "source": [
    "import datetime\n",
    "import requests\n",
    "\n",
    "url = 'http://127.0.0.1:8000/member'\n",
    "body = {\n",
    "  'mbr_nm' : 'Ema',\n",
    "  'birth_dt' : datetime.date(2024,1,1).isoformat(),\n",
    "  'sex' : 'Female',\n",
    "  'pref' : 'Tokyo'\n",
    "}\n",
    "res = requests.post(url, json=body)  # ここでjsonキーワード引数を使用する\n",
    "print(res)\n",
    "print(res.json())"
   ]
  }
 ],
 "metadata": {
  "kernelspec": {
   "display_name": "Python 3",
   "language": "python",
   "name": "python3"
  },
  "language_info": {
   "codemirror_mode": {
    "name": "ipython",
    "version": 3
   },
   "file_extension": ".py",
   "mimetype": "text/x-python",
   "name": "python",
   "nbconvert_exporter": "python",
   "pygments_lexer": "ipython3",
   "version": "3.11.3"
  }
 },
 "nbformat": 4,
 "nbformat_minor": 2
}
