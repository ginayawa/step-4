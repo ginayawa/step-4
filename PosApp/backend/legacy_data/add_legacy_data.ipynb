{
 "cells": [
  {
   "cell_type": "code",
   "execution_count": 1,
   "metadata": {},
   "outputs": [],
   "source": [
    "import sqlite3\n",
    "import csv"
   ]
  },
  {
   "cell_type": "markdown",
   "metadata": {},
   "source": [
    "# Create, Insert"
   ]
  },
  {
   "cell_type": "code",
   "execution_count": 9,
   "metadata": {},
   "outputs": [],
   "source": [
    "import sqlite3\n",
    "import csv\n",
    "\n",
    "# SQLiteデータベースに接続\n",
    "conn = sqlite3.connect('../CRM.db')\n",
    "cursor = conn.cursor()\n",
    "\n",
    "# CSVファイルからテーブル作成とデータ挿入\n",
    "def create_table_from_csv(csv_file, table_name):\n",
    "    # CSVファイルからヘッダーとデータを読み込む\n",
    "    with open(csv_file, 'r', newline='', encoding='utf-8') as file:\n",
    "        csv_reader = csv.reader(file)\n",
    "        header = ['my_number', 'disease_nm', 'allergy_info', 'infection_info', 'drug_contraindication', 'inspection_info', 'prescription', 'remarks']\n",
    "        columns = ', '.join(header)\n",
    "        placeholders = ', '.join(['?' for _ in range(len(header))])\n",
    "\n",
    "        # テーブルを作成\n",
    "        create_table_query = f\"CREATE TABLE IF NOT EXISTS {table_name} ({columns})\"\n",
    "        cursor.execute(create_table_query)\n",
    "\n",
    "        # データを挿入\n",
    "        insert_query = f\"INSERT INTO {table_name} VALUES ({placeholders})\"\n",
    "        for row in csv_reader:\n",
    "            cursor.execute(insert_query, row)\n",
    "\n",
    "    # コミットして変更を保存\n",
    "    conn.commit()\n",
    "\n",
    "# CSVファイルからテーブル作成とデータ挿入\n",
    "create_table_from_csv('./patient.csv', 'patient_info')\n",
    "\n",
    "# 接続を閉じる\n",
    "conn.close()\n"
   ]
  },
  {
   "cell_type": "markdown",
   "metadata": {},
   "source": [
    "# Drop"
   ]
  },
  {
   "cell_type": "code",
   "execution_count": 8,
   "metadata": {},
   "outputs": [],
   "source": [
    "conn = sqlite3.connect('../CRM.db')\n",
    "cursor = conn.cursor()\n",
    "# テーブルを削除する\n",
    "def drop_table(table_name):\n",
    "    drop_query = f\"DROP TABLE IF EXISTS {table_name}\"\n",
    "    cursor.execute(drop_query)\n",
    "    conn.commit()\n",
    "\n",
    "# テーブルを削除する\n",
    "drop_table('example_table')\n",
    "\n",
    "# 接続を閉じる\n",
    "conn.close()"
   ]
  }
 ],
 "metadata": {
  "kernelspec": {
   "display_name": ".venv",
   "language": "python",
   "name": "python3"
  },
  "language_info": {
   "codemirror_mode": {
    "name": "ipython",
    "version": 3
   },
   "file_extension": ".py",
   "mimetype": "text/x-python",
   "name": "python",
   "nbconvert_exporter": "python",
   "pygments_lexer": "ipython3",
   "version": "3.11.3"
  }
 },
 "nbformat": 4,
 "nbformat_minor": 2
}
